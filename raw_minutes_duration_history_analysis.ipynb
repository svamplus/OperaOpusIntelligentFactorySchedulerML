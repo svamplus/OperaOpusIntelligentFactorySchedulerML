{
 "cells": [
  {
   "cell_type": "code",
   "execution_count": 21,
   "metadata": {},
   "outputs": [
    {
     "data": {
      "text/plain": [
       "Index(['TehETOID', 'DatLans', 'Kol', 'ItemType', 'ItemGroup', 'ItemCode',\n",
       "       'ItemName', 'ResourceGroup', 'StandardOperationCode',\n",
       "       'StandardOperationName', 'WorkerTimeDuration', 'MachineTimeDuration'],\n",
       "      dtype='object')"
      ]
     },
     "execution_count": 21,
     "metadata": {},
     "output_type": "execute_result"
    }
   ],
   "source": [
    "import pandas as pd\n",
    "\n",
    "csv_data = pd.read_csv('data/new_minutes_durations_history.csv')\n",
    "csv_data.columns"
   ]
  },
  {
   "cell_type": "code",
   "execution_count": 22,
   "metadata": {},
   "outputs": [
    {
     "data": {
      "text/plain": [
       "(14752, 1668, 52194)"
      ]
     },
     "execution_count": 22,
     "metadata": {},
     "output_type": "execute_result"
    }
   ],
   "source": [
    "tehids_counts = csv_data.groupby('TehETOID')['ItemCode'].count().reset_index()\n",
    "cutoff = 7\n",
    "tehids_counts[tehids_counts['ItemCode'] >= cutoff]['ItemCode'].sum(), len(tehids_counts[tehids_counts['ItemCode'] >= cutoff]), len(tehids_counts)"
   ]
  },
  {
   "cell_type": "code",
   "execution_count": 23,
   "metadata": {},
   "outputs": [],
   "source": [
    "sel_tehids = tehids_counts.loc[tehids_counts['ItemCode'] >= cutoff, \"TehETOID\"]\n",
    "csv_data[csv_data[\"TehETOID\"].isin(sel_tehids)].to_csv('data/TehETOID_for_machine_learning.csv', index=False)"
   ]
  },
  {
   "cell_type": "code",
   "execution_count": 24,
   "metadata": {},
   "outputs": [],
   "source": [
    "mean_std_data = csv_data[~csv_data[\"TehETOID\"].isin(sel_tehids)].groupby('TehETOID')[['WorkerTimeDuration', 'MachineTimeDuration']]\\\n",
    "    .agg(\n",
    "        WorkerTimeDurationMean=('WorkerTimeDuration', 'mean'),\n",
    "        WorkerTimeDurationSTD=('WorkerTimeDuration', 'std'),\n",
    "        MachineTimeDurationMean=('MachineTimeDuration', 'mean'),\n",
    "        MachineTimeDurationSTD=('MachineTimeDuration', 'std'),\n",
    "        Count=('MachineTimeDuration', 'count'),\n",
    "    )\\\n",
    "    .reset_index()"
   ]
  },
  {
   "cell_type": "code",
   "execution_count": 25,
   "metadata": {},
   "outputs": [],
   "source": [
    "mean_std_data.to_csv('data/TehETOID_means.csv', index=False)"
   ]
  },
  {
   "cell_type": "code",
   "execution_count": 20,
   "metadata": {},
   "outputs": [
    {
     "data": {
      "text/html": [
       "<div>\n",
       "<style scoped>\n",
       "    .dataframe tbody tr th:only-of-type {\n",
       "        vertical-align: middle;\n",
       "    }\n",
       "\n",
       "    .dataframe tbody tr th {\n",
       "        vertical-align: top;\n",
       "    }\n",
       "\n",
       "    .dataframe thead th {\n",
       "        text-align: right;\n",
       "    }\n",
       "</style>\n",
       "<table border=\"1\" class=\"dataframe\">\n",
       "  <thead>\n",
       "    <tr style=\"text-align: right;\">\n",
       "      <th></th>\n",
       "      <th>TehETOID</th>\n",
       "      <th>WorkerTimeDurationMean</th>\n",
       "      <th>WorkerTimeDurationSTD</th>\n",
       "      <th>MachineTimeDurationMean</th>\n",
       "      <th>MachineTimeDurationSTD</th>\n",
       "      <th>Count</th>\n",
       "    </tr>\n",
       "  </thead>\n",
       "  <tbody>\n",
       "    <tr>\n",
       "      <th>0</th>\n",
       "      <td>233923</td>\n",
       "      <td>2.000000</td>\n",
       "      <td>NaN</td>\n",
       "      <td>2.000000</td>\n",
       "      <td>NaN</td>\n",
       "      <td>1</td>\n",
       "    </tr>\n",
       "    <tr>\n",
       "      <th>1</th>\n",
       "      <td>233927</td>\n",
       "      <td>2.000000</td>\n",
       "      <td>1.414214</td>\n",
       "      <td>2.000000</td>\n",
       "      <td>1.414214</td>\n",
       "      <td>2</td>\n",
       "    </tr>\n",
       "    <tr>\n",
       "      <th>2</th>\n",
       "      <td>233928</td>\n",
       "      <td>1.000000</td>\n",
       "      <td>0.000000</td>\n",
       "      <td>1.000000</td>\n",
       "      <td>0.000000</td>\n",
       "      <td>2</td>\n",
       "    </tr>\n",
       "    <tr>\n",
       "      <th>3</th>\n",
       "      <td>233931</td>\n",
       "      <td>1.000000</td>\n",
       "      <td>NaN</td>\n",
       "      <td>1.000000</td>\n",
       "      <td>NaN</td>\n",
       "      <td>1</td>\n",
       "    </tr>\n",
       "    <tr>\n",
       "      <th>4</th>\n",
       "      <td>233932</td>\n",
       "      <td>2.000000</td>\n",
       "      <td>NaN</td>\n",
       "      <td>2.000000</td>\n",
       "      <td>NaN</td>\n",
       "      <td>1</td>\n",
       "    </tr>\n",
       "    <tr>\n",
       "      <th>...</th>\n",
       "      <td>...</td>\n",
       "      <td>...</td>\n",
       "      <td>...</td>\n",
       "      <td>...</td>\n",
       "      <td>...</td>\n",
       "      <td>...</td>\n",
       "    </tr>\n",
       "    <tr>\n",
       "      <th>51461</th>\n",
       "      <td>2562941</td>\n",
       "      <td>0.463763</td>\n",
       "      <td>NaN</td>\n",
       "      <td>0.154588</td>\n",
       "      <td>NaN</td>\n",
       "      <td>1</td>\n",
       "    </tr>\n",
       "    <tr>\n",
       "      <th>51462</th>\n",
       "      <td>2562943</td>\n",
       "      <td>0.455105</td>\n",
       "      <td>NaN</td>\n",
       "      <td>0.151702</td>\n",
       "      <td>NaN</td>\n",
       "      <td>1</td>\n",
       "    </tr>\n",
       "    <tr>\n",
       "      <th>51463</th>\n",
       "      <td>2562945</td>\n",
       "      <td>0.455105</td>\n",
       "      <td>NaN</td>\n",
       "      <td>0.151702</td>\n",
       "      <td>NaN</td>\n",
       "      <td>1</td>\n",
       "    </tr>\n",
       "    <tr>\n",
       "      <th>51464</th>\n",
       "      <td>2562980</td>\n",
       "      <td>0.463763</td>\n",
       "      <td>NaN</td>\n",
       "      <td>0.154588</td>\n",
       "      <td>NaN</td>\n",
       "      <td>1</td>\n",
       "    </tr>\n",
       "    <tr>\n",
       "      <th>51465</th>\n",
       "      <td>2565190</td>\n",
       "      <td>0.175360</td>\n",
       "      <td>NaN</td>\n",
       "      <td>0.058453</td>\n",
       "      <td>NaN</td>\n",
       "      <td>1</td>\n",
       "    </tr>\n",
       "  </tbody>\n",
       "</table>\n",
       "<p>51466 rows × 6 columns</p>\n",
       "</div>"
      ],
      "text/plain": [
       "       TehETOID  WorkerTimeDurationMean  WorkerTimeDurationSTD  \\\n",
       "0        233923                2.000000                    NaN   \n",
       "1        233927                2.000000               1.414214   \n",
       "2        233928                1.000000               0.000000   \n",
       "3        233931                1.000000                    NaN   \n",
       "4        233932                2.000000                    NaN   \n",
       "...         ...                     ...                    ...   \n",
       "51461   2562941                0.463763                    NaN   \n",
       "51462   2562943                0.455105                    NaN   \n",
       "51463   2562945                0.455105                    NaN   \n",
       "51464   2562980                0.463763                    NaN   \n",
       "51465   2565190                0.175360                    NaN   \n",
       "\n",
       "       MachineTimeDurationMean  MachineTimeDurationSTD  Count  \n",
       "0                     2.000000                     NaN      1  \n",
       "1                     2.000000                1.414214      2  \n",
       "2                     1.000000                0.000000      2  \n",
       "3                     1.000000                     NaN      1  \n",
       "4                     2.000000                     NaN      1  \n",
       "...                        ...                     ...    ...  \n",
       "51461                 0.154588                     NaN      1  \n",
       "51462                 0.151702                     NaN      1  \n",
       "51463                 0.151702                     NaN      1  \n",
       "51464                 0.154588                     NaN      1  \n",
       "51465                 0.058453                     NaN      1  \n",
       "\n",
       "[51466 rows x 6 columns]"
      ]
     },
     "execution_count": 20,
     "metadata": {},
     "output_type": "execute_result"
    }
   ],
   "source": [
    "mean_std_data"
   ]
  },
  {
   "cell_type": "code",
   "execution_count": null,
   "metadata": {},
   "outputs": [],
   "source": []
  }
 ],
 "metadata": {
  "kernelspec": {
   "display_name": "svam",
   "language": "python",
   "name": "python3"
  },
  "language_info": {
   "codemirror_mode": {
    "name": "ipython",
    "version": 3
   },
   "file_extension": ".py",
   "mimetype": "text/x-python",
   "name": "python",
   "nbconvert_exporter": "python",
   "pygments_lexer": "ipython3",
   "version": "3.11.7"
  }
 },
 "nbformat": 4,
 "nbformat_minor": 2
}
